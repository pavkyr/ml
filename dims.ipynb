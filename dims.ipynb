{
  "nbformat": 4,
  "nbformat_minor": 0,
  "metadata": {
    "colab": {
      "name": "dims.ipynb",
      "provenance": []
    },
    "kernelspec": {
      "name": "python3",
      "display_name": "Python 3"
    },
    "language_info": {
      "name": "python"
    }
  },
  "cells": [
    {
      "cell_type": "code",
      "metadata": {
        "id": "e80dtO9uf4LH"
      },
      "source": [
        "import pandas as pd\n",
        "import numpy as np\n",
        "import seaborn as sns\n",
        "import matplotlib.pyplot as plt"
      ],
      "execution_count": null,
      "outputs": []
    },
    {
      "cell_type": "code",
      "metadata": {
        "id": "rduR75qYgvP7"
      },
      "source": [
        "from sklearn.datasets import load_iris\n",
        "from sklearn.manifold import TSNE\n",
        "from sklearn.decomposition import PCA"
      ],
      "execution_count": null,
      "outputs": []
    },
    {
      "cell_type": "code",
      "metadata": {
        "colab": {
          "base_uri": "https://localhost:8080/"
        },
        "id": "Aeu0EZiPjKpi",
        "outputId": "6c4df80c-b970-4161-a6a5-6c244a993ab1"
      },
      "source": [
        "iris = load_iris()\n",
        "iris_X, iris_y = iris.data, iris.target\n",
        "iris_X[:10]"
      ],
      "execution_count": null,
      "outputs": [
        {
          "output_type": "execute_result",
          "data": {
            "text/plain": [
              "array([[5.1, 3.5, 1.4, 0.2],\n",
              "       [4.9, 3. , 1.4, 0.2],\n",
              "       [4.7, 3.2, 1.3, 0.2],\n",
              "       [4.6, 3.1, 1.5, 0.2],\n",
              "       [5. , 3.6, 1.4, 0.2],\n",
              "       [5.4, 3.9, 1.7, 0.4],\n",
              "       [4.6, 3.4, 1.4, 0.3],\n",
              "       [5. , 3.4, 1.5, 0.2],\n",
              "       [4.4, 2.9, 1.4, 0.2],\n",
              "       [4.9, 3.1, 1.5, 0.1]])"
            ]
          },
          "metadata": {},
          "execution_count": 17
        }
      ]
    },
    {
      "cell_type": "code",
      "metadata": {
        "colab": {
          "base_uri": "https://localhost:8080/"
        },
        "id": "qeWXe07NjUlL",
        "outputId": "40b78fa3-6131-4ae2-c3a0-bfa6e34e92cd"
      },
      "source": [
        "pca=PCA(n_components=2)\n",
        "red=pca.fit_transform(iris_X)\n",
        "red[:10]"
      ],
      "execution_count": null,
      "outputs": [
        {
          "output_type": "execute_result",
          "data": {
            "text/plain": [
              "array([[-2.68412563,  0.31939725],\n",
              "       [-2.71414169, -0.17700123],\n",
              "       [-2.88899057, -0.14494943],\n",
              "       [-2.74534286, -0.31829898],\n",
              "       [-2.72871654,  0.32675451],\n",
              "       [-2.28085963,  0.74133045],\n",
              "       [-2.82053775, -0.08946138],\n",
              "       [-2.62614497,  0.16338496],\n",
              "       [-2.88638273, -0.57831175],\n",
              "       [-2.6727558 , -0.11377425]])"
            ]
          },
          "metadata": {},
          "execution_count": 15
        }
      ]
    },
    {
      "cell_type": "code",
      "metadata": {
        "colab": {
          "base_uri": "https://localhost:8080/"
        },
        "id": "Vh4kd4QLngNQ",
        "outputId": "feab1e55-0242-4add-c9bd-7ba638c4e94f"
      },
      "source": [
        "tsne=TSNE()\n",
        "tsne.fit_transform(iris_X)[:10]\n"
      ],
      "execution_count": null,
      "outputs": [
        {
          "output_type": "execute_result",
          "data": {
            "text/plain": [
              "array([[-19.6233  ,  19.53245 ],\n",
              "       [-16.97819 ,  18.445433],\n",
              "       [-17.961416,  17.696281],\n",
              "       [-17.34964 ,  17.653442],\n",
              "       [-19.91514 ,  19.207144],\n",
              "       [-21.354086,  20.611835],\n",
              "       [-18.408834,  17.555056],\n",
              "       [-18.90067 ,  19.310139],\n",
              "       [-16.883041,  17.040792],\n",
              "       [-17.466404,  18.7158  ]], dtype=float32)"
            ]
          },
          "metadata": {},
          "execution_count": 16
        }
      ]
    },
    {
      "cell_type": "code",
      "metadata": {
        "id": "PhouJCubors6"
      },
      "source": [
        "from sklearn.tree import DecisionTreeClassifier\n",
        "from sklearn.model_selection import train_test_split\n",
        "from sklearn.model_selection import cross_val_score\n"
      ],
      "execution_count": null,
      "outputs": []
    },
    {
      "cell_type": "code",
      "metadata": {
        "id": "7HPZ3-t0qrqL"
      },
      "source": [
        "X_train,X_test,y_train,y_test=train_test_split(iris_X,iris_y,test_size=0.3)"
      ],
      "execution_count": null,
      "outputs": []
    },
    {
      "cell_type": "code",
      "metadata": {
        "colab": {
          "base_uri": "https://localhost:8080/"
        },
        "id": "0RNI4Ahio9BV",
        "outputId": "d6963d47-0e96-4fff-9113-5fc12d97d5e3"
      },
      "source": [
        "clf = DecisionTreeClassifier(random_state=0)\n",
        "clf.fit(X_train,y_train)\n",
        "clf.score(X_test,y_test)"
      ],
      "execution_count": null,
      "outputs": [
        {
          "output_type": "execute_result",
          "data": {
            "text/plain": [
              "0.9333333333333333"
            ]
          },
          "metadata": {},
          "execution_count": 28
        }
      ]
    },
    {
      "cell_type": "code",
      "metadata": {
        "id": "KatNAa8YplIt"
      },
      "source": [
        "X_train,X_test,y_train,y_test=train_test_split(tsne.fit_transform(iris_X),iris_y,test_size=0.3)"
      ],
      "execution_count": null,
      "outputs": []
    },
    {
      "cell_type": "code",
      "metadata": {
        "colab": {
          "base_uri": "https://localhost:8080/"
        },
        "id": "dG4XJkSqrFCt",
        "outputId": "5fdb9990-0832-430c-920a-22952dd5cf30"
      },
      "source": [
        "clf = DecisionTreeClassifier(random_state=0)\n",
        "clf.fit(X_train,y_train)\n",
        "clf.score(X_test,y_test)"
      ],
      "execution_count": null,
      "outputs": [
        {
          "output_type": "execute_result",
          "data": {
            "text/plain": [
              "0.9777777777777777"
            ]
          },
          "metadata": {},
          "execution_count": 30
        }
      ]
    },
    {
      "cell_type": "code",
      "metadata": {
        "id": "WOrPc_1arGzx"
      },
      "source": [
        "X_train,X_test,y_train,y_test=train_test_split(pca.fit_transform(iris_X),iris_y,test_size=0.3)"
      ],
      "execution_count": null,
      "outputs": []
    },
    {
      "cell_type": "code",
      "metadata": {
        "colab": {
          "base_uri": "https://localhost:8080/"
        },
        "id": "r1b05xWorOJL",
        "outputId": "68dec04e-be7d-4aa8-ae2b-9bfa4a81c4a5"
      },
      "source": [
        "clf = DecisionTreeClassifier(random_state=0)\n",
        "clf.fit(X_train,y_train)\n",
        "clf.score(X_test,y_test)"
      ],
      "execution_count": null,
      "outputs": [
        {
          "output_type": "execute_result",
          "data": {
            "text/plain": [
              "0.9111111111111111"
            ]
          },
          "metadata": {},
          "execution_count": 32
        }
      ]
    },
    {
      "cell_type": "code",
      "metadata": {
        "id": "I7KyRGfqrPSh"
      },
      "source": [
        "df=pd.DataFrame({'x':[4,3,1,-1,0],'y':[2,2,-1,1,4]},index=['a','b','c','d','e'])"
      ],
      "execution_count": null,
      "outputs": []
    },
    {
      "cell_type": "code",
      "metadata": {
        "colab": {
          "base_uri": "https://localhost:8080/",
          "height": 205
        },
        "id": "tAoF2Z9qu6Im",
        "outputId": "7f420cd8-3dad-4444-ed37-6cf42c39bf86"
      },
      "source": [
        "df"
      ],
      "execution_count": null,
      "outputs": [
        {
          "output_type": "execute_result",
          "data": {
            "text/html": [
              "<div>\n",
              "<style scoped>\n",
              "    .dataframe tbody tr th:only-of-type {\n",
              "        vertical-align: middle;\n",
              "    }\n",
              "\n",
              "    .dataframe tbody tr th {\n",
              "        vertical-align: top;\n",
              "    }\n",
              "\n",
              "    .dataframe thead th {\n",
              "        text-align: right;\n",
              "    }\n",
              "</style>\n",
              "<table border=\"1\" class=\"dataframe\">\n",
              "  <thead>\n",
              "    <tr style=\"text-align: right;\">\n",
              "      <th></th>\n",
              "      <th>x</th>\n",
              "      <th>y</th>\n",
              "    </tr>\n",
              "  </thead>\n",
              "  <tbody>\n",
              "    <tr>\n",
              "      <th>a</th>\n",
              "      <td>4</td>\n",
              "      <td>2</td>\n",
              "    </tr>\n",
              "    <tr>\n",
              "      <th>b</th>\n",
              "      <td>3</td>\n",
              "      <td>2</td>\n",
              "    </tr>\n",
              "    <tr>\n",
              "      <th>c</th>\n",
              "      <td>1</td>\n",
              "      <td>-1</td>\n",
              "    </tr>\n",
              "    <tr>\n",
              "      <th>d</th>\n",
              "      <td>-1</td>\n",
              "      <td>1</td>\n",
              "    </tr>\n",
              "    <tr>\n",
              "      <th>e</th>\n",
              "      <td>0</td>\n",
              "      <td>4</td>\n",
              "    </tr>\n",
              "  </tbody>\n",
              "</table>\n",
              "</div>"
            ],
            "text/plain": [
              "   x  y\n",
              "a  4  2\n",
              "b  3  2\n",
              "c  1 -1\n",
              "d -1  1\n",
              "e  0  4"
            ]
          },
          "metadata": {},
          "execution_count": 3
        }
      ]
    },
    {
      "cell_type": "code",
      "metadata": {
        "colab": {
          "base_uri": "https://localhost:8080/",
          "height": 297
        },
        "id": "ojEl7wDsu68A",
        "outputId": "83214cda-b38a-4ae3-bdec-d1c0553cede9"
      },
      "source": [
        "sns.scatterplot(data=df,x='x',y='y')\n",
        "sns.scatterplot(x=[2,1],y=[3,1])\n",
        "plt.axis('equal')\n"
      ],
      "execution_count": null,
      "outputs": [
        {
          "output_type": "execute_result",
          "data": {
            "text/plain": [
              "(-1.25, 4.25, -1.25, 4.25)"
            ]
          },
          "metadata": {},
          "execution_count": 7
        },
        {
          "output_type": "display_data",
          "data": {
            "image/png": "[encoded data removed]",
            "text/plain": [
              "<Figure size 432x288 with 1 Axes>"
            ]
          },
          "metadata": {
            "needs_background": "light"
          }
        }
      ]
    },
    {
      "cell_type": "code",
      "metadata": {
        "colab": {
          "base_uri": "https://localhost:8080/",
          "height": 371
        },
        "id": "X1JiMd6IvC3V",
        "outputId": "cadf6894-fded-4cd7-84b7-a5a623389851"
      },
      "source": [
        "from sklearn.linear_model import LinearRegression\n",
        "from sklearn.metrics import mean_absolute_error\n",
        "from sklearn.metrics import mean_absolute_percentage_error"
      ],
      "execution_count": null,
      "outputs": [
        {
          "output_type": "error",
          "ename": "ImportError",
          "evalue": "ignored",
          "traceback": [
            "\u001b[0;31m---------------------------------------------------------------------------\u001b[0m",
            "\u001b[0;31mImportError\u001b[0m                               Traceback (most recent call last)",
            "\u001b[0;32m<ipython-input-14-d452ad71be94>\u001b[0m in \u001b[0;36m<module>\u001b[0;34m()\u001b[0m\n\u001b[1;32m      1\u001b[0m \u001b[0;32mfrom\u001b[0m \u001b[0msklearn\u001b[0m\u001b[0;34m.\u001b[0m\u001b[0mlinear_model\u001b[0m \u001b[0;32mimport\u001b[0m \u001b[0mLinearRegression\u001b[0m\u001b[0;34m\u001b[0m\u001b[0;34m\u001b[0m\u001b[0m\n\u001b[1;32m      2\u001b[0m \u001b[0;32mfrom\u001b[0m \u001b[0msklearn\u001b[0m\u001b[0;34m.\u001b[0m\u001b[0mmetrics\u001b[0m \u001b[0;32mimport\u001b[0m \u001b[0mmean_absolute_error\u001b[0m\u001b[0;34m\u001b[0m\u001b[0;34m\u001b[0m\u001b[0m\n\u001b[0;32m----> 3\u001b[0;31m \u001b[0;32mfrom\u001b[0m \u001b[0msklearn\u001b[0m\u001b[0;34m.\u001b[0m\u001b[0mmetrics\u001b[0m \u001b[0;32mimport\u001b[0m \u001b[0mmean_absolute_percentage_error\u001b[0m\u001b[0;34m\u001b[0m\u001b[0;34m\u001b[0m\u001b[0m\n\u001b[0m",
            "\u001b[0;31mImportError\u001b[0m: cannot import name 'mean_absolute_percentage_error' from 'sklearn.metrics' (/usr/local/lib/python3.7/dist-packages/sklearn/metrics/__init__.py)",
            "",
            "\u001b[0;31m---------------------------------------------------------------------------\u001b[0;32m\nNOTE: If your import is failing due to a missing package, you can\nmanually install dependencies using either !pip or !apt.\n\nTo view examples of installing some common dependencies, click the\n\"Open Examples\" button below.\n\u001b[0;31m---------------------------------------------------------------------------\u001b[0m\n"
          ],
          "errorDetails": {
            "actions": [
              {
                "action": "open_url",
                "actionText": "Open Examples",
                "url": "/notebooks/snippets/importing_libraries.ipynb"
              }
            ]
          }
        }
      ]
    },
    {
      "cell_type": "code",
      "metadata": {
        "id": "iCP0uletxKlw"
      },
      "source": [
        "df=pd.DataFrame({'y':[1,2,3,4,5,-1,-2,-3,-4,-5],'y`':[0,2,2,5,3,-1,-1,-4,-6,-5]})"
      ],
      "execution_count": null,
      "outputs": []
    },
    {
      "cell_type": "code",
      "metadata": {
        "id": "2zlEG5v_xnGy"
      },
      "source": [
        "res=mean_absolute_error(df['y'],df['y`'])"
      ],
      "execution_count": null,
      "outputs": []
    },
    {
      "cell_type": "code",
      "metadata": {
        "colab": {
          "base_uri": "https://localhost:8080/"
        },
        "id": "Ck7tvkqBxnlK",
        "outputId": "db751c27-ab24-4534-cd20-6ed7fdbd99d4"
      },
      "source": [
        "res"
      ],
      "execution_count": null,
      "outputs": [
        {
          "output_type": "execute_result",
          "data": {
            "text/plain": [
              "0.9"
            ]
          },
          "metadata": {},
          "execution_count": 13
        }
      ]
    },
    {
      "cell_type": "code",
      "metadata": {
        "id": "zr_Tqn_6x-ZR"
      },
      "source": [
        "def mean_absolute_percentage_error(y_true, y_pred): \n",
        "    y_true, y_pred = np.array(y_true), np.array(y_pred)\n",
        "    return np.mean(np.abs((y_true - y_pred) / y_true)) * 100"
      ],
      "execution_count": null,
      "outputs": []
    },
    {
      "cell_type": "code",
      "metadata": {
        "colab": {
          "base_uri": "https://localhost:8080/"
        },
        "id": "n8gp05ZRyicO",
        "outputId": "eac9eb2a-31b7-4b80-c63d-d0916b6997e2"
      },
      "source": [
        "res2=mean_absolute_percentage_error(df['y'],df['y`'])\n",
        "res2"
      ],
      "execution_count": null,
      "outputs": [
        {
          "output_type": "execute_result",
          "data": {
            "text/plain": [
              "33.166666666666664"
            ]
          },
          "metadata": {},
          "execution_count": 16
        }
      ]
    },
    {
      "cell_type": "code",
      "metadata": {
        "colab": {
          "base_uri": "https://localhost:8080/",
          "height": 297
        },
        "id": "70GuFeXUyo06",
        "outputId": "6e3f35ac-bbc1-4f66-cb0c-6f48ea7c4872"
      },
      "source": [
        "df2=pd.DataFrame({'x':[0,1,2,3],'y':[0,1,0,3]})\n",
        "sns.scatterplot(data=df2,x='x',y='y')"
      ],
      "execution_count": null,
      "outputs": [
        {
          "output_type": "execute_result",
          "data": {
            "text/plain": [
              "<matplotlib.axes._subplots.AxesSubplot at 0x7f003ece9190>"
            ]
          },
          "metadata": {},
          "execution_count": 17
        },
        {
          "output_type": "display_data",
          "data": {
            "image/png": "[encoded data removed]",
            "text/plain": [
              "<Figure size 432x288 with 1 Axes>"
            ]
          },
          "metadata": {
            "needs_background": "light"
          }
        }
      ]
    },
    {
      "cell_type": "code",
      "metadata": {
        "colab": {
          "base_uri": "https://localhost:8080/"
        },
        "id": "bwiSTQSvzO-H",
        "outputId": "17cf8555-b7ab-43d8-a38a-f3486d9c8d35"
      },
      "source": [
        "x=np.array([[0],[1],[2],[3]])\n",
        "y=np.array([0,1,0,3])\n",
        "lin=LinearRegression()\n",
        "lin.fit(x,y)"
      ],
      "execution_count": null,
      "outputs": [
        {
          "output_type": "execute_result",
          "data": {
            "text/plain": [
              "LinearRegression(copy_X=True, fit_intercept=True, n_jobs=None, normalize=False)"
            ]
          },
          "metadata": {},
          "execution_count": 23
        }
      ]
    },
    {
      "cell_type": "code",
      "metadata": {
        "colab": {
          "base_uri": "https://localhost:8080/"
        },
        "id": "rUr-FkJOzYWe",
        "outputId": "b7a7685a-18e0-470e-9703-9f12ca636ad6"
      },
      "source": [
        "print(lin.intercept_)\n",
        "print(lin.coef_)"
      ],
      "execution_count": null,
      "outputs": [
        {
          "output_type": "stream",
          "text": [
            "[-0.2]\n",
            "[[0.8]]\n"
          ],
          "name": "stdout"
        }
      ]
    },
    {
      "cell_type": "code",
      "metadata": {
        "colab": {
          "base_uri": "https://localhost:8080/"
        },
        "id": "wTpHUFp_0K_E",
        "outputId": "c5e841a3-158d-4469-f1f7-228c856f2c1d"
      },
      "source": [
        "print(lin.intercept_)\n",
        "print(lin.coef_)"
      ],
      "execution_count": null,
      "outputs": [
        {
          "output_type": "stream",
          "text": [
            "-0.20000000000000018\n",
            "[0.8]\n"
          ],
          "name": "stdout"
        }
      ]
    },
    {
      "cell_type": "code",
      "metadata": {
        "colab": {
          "base_uri": "https://localhost:8080/",
          "height": 297
        },
        "id": "HMuxBjY40hau",
        "outputId": "5d01881d-36e6-4066-efcd-4ea28ca06c0b"
      },
      "source": [
        "\n",
        "df2=pd.DataFrame({'x':[0,1,2,3],'y':[0,1,0,3]})\n",
        "sns.scatterplot(data=df2,x='x',y='y')\n",
        "y=lambda x: 0.8*x-0.2\n",
        "plt.plot(x,y(x))"
      ],
      "execution_count": null,
      "outputs": [
        {
          "output_type": "execute_result",
          "data": {
            "text/plain": [
              "[<matplotlib.lines.Line2D at 0x7f003ed0e410>]"
            ]
          },
          "metadata": {},
          "execution_count": 28
        },
        {
          "output_type": "display_data",
          "data": {
            "image/png": "[encoded data removed]",
            "text/plain": [
              "<Figure size 432x288 with 1 Axes>"
            ]
          },
          "metadata": {
            "needs_background": "light"
          }
        }
      ]
    },
    {
      "cell_type": "code",
      "metadata": {
        "id": "JMN1g15v1-M1"
      },
      "source": [
        "x1=np.array([[0,3],[1,2],[2,1],[3,0]])\n",
        "y=np.array([0,1,0,3])"
      ],
      "execution_count": null,
      "outputs": []
    },
    {
      "cell_type": "code",
      "metadata": {
        "colab": {
          "base_uri": "https://localhost:8080/"
        },
        "id": "tLyoXu4P3zu3",
        "outputId": "6596524e-a43e-44d8-9df2-6f8921439694"
      },
      "source": [
        "from sklearn.linear_model import Ridge\n",
        "lin=Ridge(alpha=1.0,fit_intercept=False)\n",
        "lin.fit(np.insert(x1,0,values=1,axis=1),y)"
      ],
      "execution_count": null,
      "outputs": [
        {
          "output_type": "execute_result",
          "data": {
            "text/plain": [
              "Ridge(alpha=1.0, copy_X=True, fit_intercept=False, max_iter=None,\n",
              "      normalize=False, random_state=None, solver='auto', tol=0.001)"
            ]
          },
          "metadata": {},
          "execution_count": 48
        }
      ]
    },
    {
      "cell_type": "code",
      "metadata": {
        "colab": {
          "base_uri": "https://localhost:8080/"
        },
        "id": "ttW2dvLQ3988",
        "outputId": "da923b39-8bf8-433b-8f8e-5b9bd3e09b15"
      },
      "source": [
        "print(lin.coef_)\n",
        "print(lin.intercept_)"
      ],
      "execution_count": null,
      "outputs": [
        {
          "output_type": "stream",
          "text": [
            "[ 0.17391304  0.62450593 -0.1027668 ]\n",
            "0.0\n"
          ],
          "name": "stdout"
        }
      ]
    },
    {
      "cell_type": "code",
      "metadata": {
        "colab": {
          "base_uri": "https://localhost:8080/"
        },
        "id": "1mq0G1fq4CJt",
        "outputId": "2901f8a7-53a2-4af0-a772-cc5978d92f17"
      },
      "source": [
        "from itertools import *\n",
        "l=[0.17,0.62, -0.1]\n",
        "for i in permutations(l):\n",
        "    print(i, end=' \\n')"
      ],
      "execution_count": null,
      "outputs": [
        {
          "output_type": "stream",
          "text": [
            "(0.17, 0.62, -0.1) \n",
            "(0.17, -0.1, 0.62) \n",
            "(0.62, 0.17, -0.1) \n",
            "(0.62, -0.1, 0.17) \n",
            "(-0.1, 0.17, 0.62) \n",
            "(-0.1, 0.62, 0.17) \n"
          ],
          "name": "stdout"
        }
      ]
    },
    {
      "cell_type": "code",
      "metadata": {
        "id": "1YwMRyyuJSxR"
      },
      "source": [
        ""
      ],
      "execution_count": null,
      "outputs": []
    }
  ]
}